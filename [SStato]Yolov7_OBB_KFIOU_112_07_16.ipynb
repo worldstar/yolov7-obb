{
 "cells": [
  {
   "cell_type": "markdown",
   "metadata": {
    "id": "STfdGh5Ui6Tn"
   },
   "source": [
    "#How To Train YOLOv5 Oriented Bounding Boxes Custom Object Detection\n",
    "\n",
    "Oriented bounding boxes are bounding boxes rotated to better fit the objects represented on an angle. In this notebook, we use the YOLOv5-OBB repository in order to train an already annotated dataset to view the Oriented bounding boxes detection at play.\n",
    "\n",
    "\n",
    "## Instructions\n",
    "\n",
    "Run one cell at at time and run:\n",
    "\n",
    "```\n",
    ">>> import torch\n",
    ">>> torch.version.cuda\n",
    ">>> exit()\n",
    "```\n",
    "\n",
    "when prompted to in the first cell. \n",
    "\n",
    "Addidtional Resources:\n",
    "\n",
    "- [Yolov5-OBB installation instructions](https://github.com/hukaixuan19970627/yolov5_obb/blob/master/docs/install.md)\n",
    "- [Getting started](https://github.com/hukaixuan19970627/yolov5_obb/blob/master/docs/GetStart.md)"
   ]
  },
  {
   "cell_type": "code",
   "execution_count": 2,
   "metadata": {
    "colab": {
     "base_uri": "https://localhost:8080/"
    },
    "id": "1NZxhXTMWvek",
    "outputId": "69470765-d772-45f9-d1a3-ee44ffeb7663"
   },
   "outputs": [
    {
     "name": "stdout",
     "output_type": "stream",
     "text": [
      "Looking in links: https://download.pytorch.org/whl/cu113/torch_stable.html\n",
      "Requirement already satisfied: torch==1.10.1+cu113 in /home/u7701783/.local/lib/python3.8/site-packages (1.10.1+cu113)\n",
      "Requirement already satisfied: torchvision==0.11.2+cu113 in /home/u7701783/.local/lib/python3.8/site-packages (0.11.2+cu113)\n",
      "Requirement already satisfied: torchaudio==0.10.1+cu113 in /home/u7701783/.local/lib/python3.8/site-packages (0.10.1+cu113)\n",
      "Requirement already satisfied: typing-extensions in /opt/conda/lib/python3.8/site-packages (from torch==1.10.1+cu113) (3.10.0.0)\n",
      "Requirement already satisfied: numpy in /home/u7701783/.local/lib/python3.8/site-packages (from torchvision==0.11.2+cu113) (1.23.1)\n",
      "Requirement already satisfied: pillow!=8.3.0,>=5.3.0 in /home/u7701783/.local/lib/python3.8/site-packages (from torchvision==0.11.2+cu113) (9.3.0)\n",
      "\u001b[33mWARNING: You are using pip version 21.2.4; however, version 23.2 is available.\n",
      "You should consider upgrading via the '/opt/conda/bin/python3 -m pip install --upgrade pip' command.\u001b[0m\n",
      "nvcc: NVIDIA (R) Cuda compiler driver\n",
      "Copyright (c) 2005-2021 NVIDIA Corporation\n",
      "Built on Wed_Jul_14_19:41:19_PDT_2021\n",
      "Cuda compilation tools, release 11.4, V11.4.100\n",
      "Build cuda_11.4.r11.4/compiler.30188945_0\n",
      "Sun Jul 16 14:53:27 2023       \n",
      "+-----------------------------------------------------------------------------+\n",
      "| NVIDIA-SMI 470.161.03   Driver Version: 470.161.03   CUDA Version: 11.4     |\n",
      "|-------------------------------+----------------------+----------------------+\n",
      "| GPU  Name        Persistence-M| Bus-Id        Disp.A | Volatile Uncorr. ECC |\n",
      "| Fan  Temp  Perf  Pwr:Usage/Cap|         Memory-Usage | GPU-Util  Compute M. |\n",
      "|                               |                      |               MIG M. |\n",
      "|===============================+======================+======================|\n",
      "|   0  Tesla V100-SXM2...  On   | 00000000:B1:00.0 Off |                    0 |\n",
      "| N/A   27C    P0    42W / 300W |      0MiB / 32510MiB |      0%      Default |\n",
      "|                               |                      |                  N/A |\n",
      "+-------------------------------+----------------------+----------------------+\n",
      "                                                                               \n",
      "+-----------------------------------------------------------------------------+\n",
      "| Processes:                                                                  |\n",
      "|  GPU   GI   CI        PID   Type   Process name                  GPU Memory |\n",
      "|        ID   ID                                                   Usage      |\n",
      "|=============================================================================|\n",
      "|  No running processes found                                                 |\n",
      "+-----------------------------------------------------------------------------+\n"
     ]
    }
   ],
   "source": [
    "!pip3 install torch==1.10.1+cu113 torchvision==0.11.2+cu113 torchaudio==0.10.1+cu113 -f https://download.pytorch.org/whl/cu113/torch_stable.html\n",
    "!nvcc -V\n",
    "!nvidia-smi"
   ]
  },
  {
   "cell_type": "code",
   "execution_count": 3,
   "metadata": {
    "colab": {
     "base_uri": "https://localhost:8080/"
    },
    "id": "9cWpOA-iLBdJ",
    "outputId": "7e77a653-4371-45f5-8848-0a7bc1da8690"
   },
   "outputs": [
    {
     "name": "stdout",
     "output_type": "stream",
     "text": [
      "Cloning into 'YOLOv7_obb_KFIOU'...\n",
      "The authenticity of host 'github.com (20.27.177.113)' can't be established.\n",
      "ECDSA key fingerprint is SHA256:p2QAMXNIC1TJYWeIOttrVc98/R1BUFWu3/LiyKgUfQM.\n",
      "Are you sure you want to continue connecting (yes/no/[fingerprint])? ^C\n"
     ]
    }
   ],
   "source": [
    "#!git clone git@github.com:Suppersine/YOLOv7_obb_KFIOU.git\n",
    "#!git clone https://github.com/SSTato/YOLOv7_obb.git"
   ]
  },
  {
   "cell_type": "code",
   "execution_count": 9,
   "metadata": {
    "colab": {
     "base_uri": "https://localhost:8080/"
    },
    "id": "XrMDF3vubJlt",
    "outputId": "4b7d6529-86f5-4798-e362-d7826eeba68d"
   },
   "outputs": [
    {
     "name": "stdout",
     "output_type": "stream",
     "text": [
      "/home/u7701783/yolov7-obb\n",
      "Requirement already satisfied: matplotlib>=3.2.2 in /home/u7701783/.local/lib/python3.8/site-packages (from -r requirements.txt (line 4)) (3.4.3)\n",
      "Requirement already satisfied: numpy>=1.18.5 in /home/u7701783/.local/lib/python3.8/site-packages (from -r requirements.txt (line 5)) (1.23.1)\n",
      "Requirement already satisfied: opencv-python>=4.5.4 in /home/u7701783/.local/lib/python3.8/site-packages (from -r requirements.txt (line 6)) (4.7.0.72)\n",
      "Requirement already satisfied: Pillow>=7.1.2 in /home/u7701783/.local/lib/python3.8/site-packages (from -r requirements.txt (line 7)) (9.3.0)\n",
      "Requirement already satisfied: PyYAML>=5.3.1 in /home/u7701783/.local/lib/python3.8/site-packages (from -r requirements.txt (line 8)) (5.4.1)\n",
      "Requirement already satisfied: requests>=2.23.0 in /opt/conda/lib/python3.8/site-packages (from -r requirements.txt (line 9)) (2.26.0)\n",
      "Requirement already satisfied: scipy>=1.4.1 in /home/u7701783/.local/lib/python3.8/site-packages (from -r requirements.txt (line 10)) (1.9.1)\n",
      "Requirement already satisfied: torch>=1.7.0 in /home/u7701783/.local/lib/python3.8/site-packages (from -r requirements.txt (line 11)) (1.10.1+cu113)\n",
      "Requirement already satisfied: torchvision>=0.8.1 in /home/u7701783/.local/lib/python3.8/site-packages (from -r requirements.txt (line 12)) (0.11.2+cu113)\n",
      "Requirement already satisfied: tqdm>=4.41.0 in /home/u7701783/.local/lib/python3.8/site-packages (from -r requirements.txt (line 13)) (4.62.2)\n",
      "Requirement already satisfied: tensorboard>=2.4.1 in /opt/conda/lib/python3.8/site-packages (from -r requirements.txt (line 16)) (2.6.0)\n",
      "Requirement already satisfied: pandas>=1.1.4 in /home/u7701783/.local/lib/python3.8/site-packages (from -r requirements.txt (line 20)) (1.3.5)\n",
      "Requirement already satisfied: seaborn>=0.11.0 in /home/u7701783/.local/lib/python3.8/site-packages (from -r requirements.txt (line 21)) (0.11.2)\n",
      "Requirement already satisfied: thop in /home/u7701783/.local/lib/python3.8/site-packages (from -r requirements.txt (line 37)) (0.0.31.post2005241907)\n",
      "Requirement already satisfied: python-dateutil>=2.7 in /opt/conda/lib/python3.8/site-packages (from matplotlib>=3.2.2->-r requirements.txt (line 4)) (2.8.2)\n",
      "Requirement already satisfied: pyparsing>=2.2.1 in /home/u7701783/.local/lib/python3.8/site-packages (from matplotlib>=3.2.2->-r requirements.txt (line 4)) (2.4.7)\n",
      "Requirement already satisfied: kiwisolver>=1.0.1 in /home/u7701783/.local/lib/python3.8/site-packages (from matplotlib>=3.2.2->-r requirements.txt (line 4)) (1.3.1)\n",
      "Requirement already satisfied: cycler>=0.10 in /home/u7701783/.local/lib/python3.8/site-packages (from matplotlib>=3.2.2->-r requirements.txt (line 4)) (0.10.0)\n",
      "Requirement already satisfied: certifi>=2017.4.17 in /home/u7701783/.local/lib/python3.8/site-packages (from requests>=2.23.0->-r requirements.txt (line 9)) (2021.5.30)\n",
      "Requirement already satisfied: urllib3<1.27,>=1.21.1 in /home/u7701783/.local/lib/python3.8/site-packages (from requests>=2.23.0->-r requirements.txt (line 9)) (1.26.6)\n",
      "Requirement already satisfied: idna<4,>=2.5 in /home/u7701783/.local/lib/python3.8/site-packages (from requests>=2.23.0->-r requirements.txt (line 9)) (2.10)\n",
      "Requirement already satisfied: charset-normalizer~=2.0.0 in /opt/conda/lib/python3.8/site-packages (from requests>=2.23.0->-r requirements.txt (line 9)) (2.0.0)\n",
      "Requirement already satisfied: typing-extensions in /opt/conda/lib/python3.8/site-packages (from torch>=1.7.0->-r requirements.txt (line 11)) (3.10.0.0)\n",
      "Requirement already satisfied: tensorboard-data-server<0.7.0,>=0.6.0 in /opt/conda/lib/python3.8/site-packages (from tensorboard>=2.4.1->-r requirements.txt (line 16)) (0.6.1)\n",
      "Requirement already satisfied: grpcio>=1.24.3 in /opt/conda/lib/python3.8/site-packages (from tensorboard>=2.4.1->-r requirements.txt (line 16)) (1.39.0)\n",
      "Requirement already satisfied: absl-py>=0.4 in /opt/conda/lib/python3.8/site-packages (from tensorboard>=2.4.1->-r requirements.txt (line 16)) (0.13.0)\n",
      "Requirement already satisfied: markdown>=2.6.8 in /opt/conda/lib/python3.8/site-packages (from tensorboard>=2.4.1->-r requirements.txt (line 16)) (3.3.4)\n",
      "Requirement already satisfied: protobuf>=3.6.0 in /opt/conda/lib/python3.8/site-packages (from tensorboard>=2.4.1->-r requirements.txt (line 16)) (3.17.3)\n",
      "Requirement already satisfied: setuptools>=41.0.0 in /opt/conda/lib/python3.8/site-packages (from tensorboard>=2.4.1->-r requirements.txt (line 16)) (57.4.0)\n",
      "Requirement already satisfied: werkzeug>=0.11.15 in /opt/conda/lib/python3.8/site-packages (from tensorboard>=2.4.1->-r requirements.txt (line 16)) (2.0.1)\n",
      "Requirement already satisfied: wheel>=0.26 in /opt/conda/lib/python3.8/site-packages (from tensorboard>=2.4.1->-r requirements.txt (line 16)) (0.36.2)\n",
      "Requirement already satisfied: google-auth-oauthlib<0.5,>=0.4.1 in /opt/conda/lib/python3.8/site-packages (from tensorboard>=2.4.1->-r requirements.txt (line 16)) (0.4.5)\n",
      "Requirement already satisfied: tensorboard-plugin-wit>=1.6.0 in /opt/conda/lib/python3.8/site-packages (from tensorboard>=2.4.1->-r requirements.txt (line 16)) (1.8.0)\n",
      "Requirement already satisfied: google-auth<2,>=1.6.3 in /opt/conda/lib/python3.8/site-packages (from tensorboard>=2.4.1->-r requirements.txt (line 16)) (1.34.0)\n",
      "Requirement already satisfied: pytz>=2017.3 in /opt/conda/lib/python3.8/site-packages (from pandas>=1.1.4->-r requirements.txt (line 20)) (2021.1)\n",
      "Requirement already satisfied: six in /opt/conda/lib/python3.8/site-packages (from absl-py>=0.4->tensorboard>=2.4.1->-r requirements.txt (line 16)) (1.16.0)\n",
      "Requirement already satisfied: cachetools<5.0,>=2.0.0 in /opt/conda/lib/python3.8/site-packages (from google-auth<2,>=1.6.3->tensorboard>=2.4.1->-r requirements.txt (line 16)) (4.2.2)\n",
      "Requirement already satisfied: rsa<5,>=3.1.4 in /opt/conda/lib/python3.8/site-packages (from google-auth<2,>=1.6.3->tensorboard>=2.4.1->-r requirements.txt (line 16)) (4.7.2)\n",
      "Requirement already satisfied: pyasn1-modules>=0.2.1 in /opt/conda/lib/python3.8/site-packages (from google-auth<2,>=1.6.3->tensorboard>=2.4.1->-r requirements.txt (line 16)) (0.2.8)\n",
      "Requirement already satisfied: requests-oauthlib>=0.7.0 in /opt/conda/lib/python3.8/site-packages (from google-auth-oauthlib<0.5,>=0.4.1->tensorboard>=2.4.1->-r requirements.txt (line 16)) (1.3.0)\n",
      "Requirement already satisfied: pyasn1<0.5.0,>=0.4.6 in /opt/conda/lib/python3.8/site-packages (from pyasn1-modules>=0.2.1->google-auth<2,>=1.6.3->tensorboard>=2.4.1->-r requirements.txt (line 16)) (0.4.8)\n",
      "Requirement already satisfied: oauthlib>=3.0.0 in /opt/conda/lib/python3.8/site-packages (from requests-oauthlib>=0.7.0->google-auth-oauthlib<0.5,>=0.4.1->tensorboard>=2.4.1->-r requirements.txt (line 16)) (3.1.1)\n",
      "\u001b[33mWARNING: You are using pip version 21.2.4; however, version 23.2 is available.\n",
      "You should consider upgrading via the '/opt/conda/bin/python3 -m pip install --upgrade pip' command.\u001b[0m\n"
     ]
    }
   ],
   "source": [
    "#%cd /content/yolov7_obb_expm/\n",
    "%cd ~/yolov7-obb/\n",
    "!pip install -r requirements.txt"
   ]
  },
  {
   "cell_type": "code",
   "execution_count": 5,
   "metadata": {
    "colab": {
     "base_uri": "https://localhost:8080/"
    },
    "id": "11G939jgNaVK",
    "outputId": "1516081a-a8d1-411f-e509-e92213e9b121"
   },
   "outputs": [
    {
     "name": "stdout",
     "output_type": "stream",
     "text": [
      "/home/u7701783/yolov7-obb/utils/nms_rotated\n",
      "running develop\n",
      "error: can't create or remove files in install directory\n",
      "\n",
      "The following error occurred while trying to add or remove files in the\n",
      "installation directory:\n",
      "\n",
      "    [Errno 13] Permission denied: '/opt/conda/lib/python3.8/site-packages/test-easy-install-481.write-test'\n",
      "\n",
      "The installation directory you specified (via --install-dir, --prefix, or\n",
      "the distutils default setting) was:\n",
      "\n",
      "    /opt/conda/lib/python3.8/site-packages/\n",
      "\n",
      "Perhaps your account does not have write access to this directory?  If the\n",
      "installation directory is a system-owned directory, you may need to sign in\n",
      "as the administrator or \"root\" account.  If you do not have administrative\n",
      "access to this machine, you may wish to choose a different installation\n",
      "directory, preferably one that is listed in your PYTHONPATH environment\n",
      "variable.\n",
      "\n",
      "For information on other options, you may wish to consult the\n",
      "documentation at:\n",
      "\n",
      "  https://setuptools.readthedocs.io/en/latest/easy_install.html\n",
      "\n",
      "Please make the appropriate changes for your system and try again.\n",
      "\n",
      "Using pip 21.2.4 from /opt/conda/lib/python3.8/site-packages/pip (python 3.8)\n",
      "Obtaining file:///home/u7701783/yolov7-obb/utils/nms_rotated\n",
      "    Running command python setup.py egg_info\n",
      "    running egg_info\n",
      "    creating /tmp/pip-pip-egg-info-s9t0y2b5/nms_rotated.egg-info\n",
      "    writing /tmp/pip-pip-egg-info-s9t0y2b5/nms_rotated.egg-info/PKG-INFO\n",
      "    writing dependency_links to /tmp/pip-pip-egg-info-s9t0y2b5/nms_rotated.egg-info/dependency_links.txt\n",
      "    writing top-level names to /tmp/pip-pip-egg-info-s9t0y2b5/nms_rotated.egg-info/top_level.txt\n",
      "    writing manifest file '/tmp/pip-pip-egg-info-s9t0y2b5/nms_rotated.egg-info/SOURCES.txt'\n",
      "    reading manifest file '/tmp/pip-pip-egg-info-s9t0y2b5/nms_rotated.egg-info/SOURCES.txt'\n",
      "    writing manifest file '/tmp/pip-pip-egg-info-s9t0y2b5/nms_rotated.egg-info/SOURCES.txt'\n",
      "Installing collected packages: nms-rotated\n",
      "  Attempting uninstall: nms-rotated\n",
      "    Found existing installation: nms-rotated 0.0.0\n",
      "    Uninstalling nms-rotated-0.0.0:\n",
      "      Removing file or directory /home/u7701783/.local/lib/python3.8/site-packages/nms-rotated.egg-link\n",
      "      Removing pth entries from /home/u7701783/.local/lib/python3.8/site-packages/easy-install.pth:\n",
      "      Removing entry: /home/u7701783/yolov7-obb/utils/nms_rotated\n",
      "      Successfully uninstalled nms-rotated-0.0.0\n",
      "  Running setup.py develop for nms-rotated\n",
      "    Running command /opt/conda/bin/python3 -c 'import io, os, sys, setuptools, tokenize; sys.argv[0] = '\"'\"'/home/u7701783/yolov7-obb/utils/nms_rotated/setup.py'\"'\"'; __file__='\"'\"'/home/u7701783/yolov7-obb/utils/nms_rotated/setup.py'\"'\"';f = getattr(tokenize, '\"'\"'open'\"'\"', open)(__file__) if os.path.exists(__file__) else io.StringIO('\"'\"'from setuptools import setup; setup()'\"'\"');code = f.read().replace('\"'\"'\\r\\n'\"'\"', '\"'\"'\\n'\"'\"');f.close();exec(compile(code, __file__, '\"'\"'exec'\"'\"'))' develop --no-deps --user --prefix=\n",
      "    running develop\n",
      "    running egg_info\n",
      "    writing nms_rotated.egg-info/PKG-INFO\n",
      "    writing dependency_links to nms_rotated.egg-info/dependency_links.txt\n",
      "    writing top-level names to nms_rotated.egg-info/top_level.txt\n",
      "    reading manifest file 'nms_rotated.egg-info/SOURCES.txt'\n",
      "    writing manifest file 'nms_rotated.egg-info/SOURCES.txt'\n",
      "    running build_ext\n",
      "    building '.nms_rotated_ext' extension\n",
      "    Emitting ninja build file /home/u7701783/yolov7-obb/utils/nms_rotated/build/temp.linux-x86_64-3.8/build.ninja...\n",
      "    Compiling objects...\n",
      "    Allowing ninja to set a default number of workers... (overridable by setting the environment variable MAX_JOBS=N)\n",
      "    /home/u7701783/.local/lib/python3.8/site-packages/torch/utils/cpp_extension.py:782: UserWarning: The detected CUDA version (11.4) has a minor version mismatch with the version that was used to compile PyTorch (11.3). Most likely this shouldn't be a problem.\n",
      "      warnings.warn(CUDA_MISMATCH_WARN.format(cuda_str_version, torch.version.cuda))\n",
      "    ninja: no work to do.\n",
      "    g++ -pthread -shared -B /opt/conda/compiler_compat -L/opt/conda/lib -Wl,-rpath=/opt/conda/lib -Wl,--no-as-needed -Wl,--sysroot=/ /home/u7701783/yolov7-obb/utils/nms_rotated/build/temp.linux-x86_64-3.8/src/nms_rotated_cpu.o /home/u7701783/yolov7-obb/utils/nms_rotated/build/temp.linux-x86_64-3.8/src/nms_rotated_ext.o /home/u7701783/yolov7-obb/utils/nms_rotated/build/temp.linux-x86_64-3.8/src/nms_rotated_cuda.o /home/u7701783/yolov7-obb/utils/nms_rotated/build/temp.linux-x86_64-3.8/src/poly_nms_cuda.o -L/home/u7701783/.local/lib/python3.8/site-packages/torch/lib -L/usr/local/cuda/lib64 -lc10 -ltorch -ltorch_cpu -ltorch_python -lcudart -lc10_cuda -ltorch_cuda_cu -ltorch_cuda_cpp -o build/lib.linux-x86_64-3.8/nms_rotated_ext.cpython-38-x86_64-linux-gnu.so\n",
      "    copying build/lib.linux-x86_64-3.8/nms_rotated_ext.cpython-38-x86_64-linux-gnu.so ->\n",
      "    Creating /home/u7701783/.local/lib/python3.8/site-packages/nms-rotated.egg-link (link to .)\n",
      "    Adding nms-rotated 0.0.0 to easy-install.pth file\n",
      "\n",
      "    Installed /home/u7701783/yolov7-obb/utils/nms_rotated\n",
      "Successfully installed nms-rotated-0.0.0\n",
      "\u001b[33mWARNING: You are using pip version 21.2.4; however, version 23.2 is available.\n",
      "You should consider upgrading via the '/opt/conda/bin/python3 -m pip install --upgrade pip' command.\u001b[0m\n"
     ]
    }
   ],
   "source": [
    "%cd utils/nms_rotated\n",
    "!python setup.py develop  #or \"\n",
    "!pip install -v -e ."
   ]
  },
  {
   "cell_type": "code",
   "execution_count": 6,
   "metadata": {
    "colab": {
     "base_uri": "https://localhost:8080/"
    },
    "id": "49QzmYLIMK4r",
    "outputId": "5186559c-9e6a-4f34-c01a-aaaba8da49dc"
   },
   "outputs": [
    {
     "name": "stdout",
     "output_type": "stream",
     "text": [
      "[Errno 2] No such file or directory: '/content'\n",
      "/home/u7701783/yolov7-obb/utils/nms_rotated\n",
      "mkdir: cannot create directory ‘/content/datasets/’: No such file or directory\n"
     ]
    }
   ],
   "source": [
    "%cd /content\n",
    "!mkdir /content/datasets/"
   ]
  },
  {
   "cell_type": "markdown",
   "metadata": {
    "id": "HGf0HWV2Lgns"
   },
   "source": [
    "##Export\n",
    "\n",
    "Remember to export your annotated dataset following the steps shown [in the video tutorial](https://youtu.be/iRkCNo9-slY?t=136)"
   ]
  },
  {
   "cell_type": "code",
   "execution_count": 7,
   "metadata": {
    "colab": {
     "base_uri": "https://localhost:8080/",
     "height": 1000
    },
    "id": "0wdoHhGMX79L",
    "outputId": "9ede6698-bd92-4bf4-9818-2152590ce652"
   },
   "outputs": [
    {
     "name": "stdout",
     "output_type": "stream",
     "text": [
      "[Errno 2] No such file or directory: '/content/datasets/'\n",
      "/home/u7701783/yolov7-obb/utils/nms_rotated\n",
      "Requirement already satisfied: roboflow in /home/u7701783/.local/lib/python3.8/site-packages (0.2.0)\n",
      "Requirement already satisfied: chardet==4.0.0 in /opt/conda/lib/python3.8/site-packages (from roboflow) (4.0.0)\n",
      "Requirement already satisfied: python-dotenv in /home/u7701783/.local/lib/python3.8/site-packages (from roboflow) (1.0.0)\n",
      "Requirement already satisfied: kiwisolver==1.3.1 in /home/u7701783/.local/lib/python3.8/site-packages (from roboflow) (1.3.1)\n",
      "Requirement already satisfied: matplotlib in /home/u7701783/.local/lib/python3.8/site-packages (from roboflow) (3.4.3)\n",
      "Requirement already satisfied: certifi==2021.5.30 in /home/u7701783/.local/lib/python3.8/site-packages (from roboflow) (2021.5.30)\n",
      "Requirement already satisfied: six in /opt/conda/lib/python3.8/site-packages (from roboflow) (1.16.0)\n",
      "Requirement already satisfied: tqdm>=4.41.0 in /home/u7701783/.local/lib/python3.8/site-packages (from roboflow) (4.62.2)\n",
      "Requirement already satisfied: idna==2.10 in /home/u7701783/.local/lib/python3.8/site-packages (from roboflow) (2.10)\n",
      "Requirement already satisfied: cycler==0.10.0 in /home/u7701783/.local/lib/python3.8/site-packages (from roboflow) (0.10.0)\n",
      "Requirement already satisfied: PyYAML>=5.3.1 in /home/u7701783/.local/lib/python3.8/site-packages (from roboflow) (5.4.1)\n",
      "Requirement already satisfied: numpy>=1.18.5 in /home/u7701783/.local/lib/python3.8/site-packages (from roboflow) (1.23.1)\n",
      "Requirement already satisfied: pyparsing==2.4.7 in /home/u7701783/.local/lib/python3.8/site-packages (from roboflow) (2.4.7)\n",
      "Requirement already satisfied: python-dateutil in /opt/conda/lib/python3.8/site-packages (from roboflow) (2.8.2)\n",
      "Requirement already satisfied: opencv-python>=4.1.2 in /home/u7701783/.local/lib/python3.8/site-packages (from roboflow) (4.7.0.72)\n",
      "Requirement already satisfied: urllib3==1.26.6 in /home/u7701783/.local/lib/python3.8/site-packages (from roboflow) (1.26.6)\n",
      "Requirement already satisfied: wget in /home/u7701783/.local/lib/python3.8/site-packages (from roboflow) (3.2)\n",
      "Requirement already satisfied: Pillow>=7.1.2 in /home/u7701783/.local/lib/python3.8/site-packages (from roboflow) (9.3.0)\n",
      "Requirement already satisfied: requests in /opt/conda/lib/python3.8/site-packages (from roboflow) (2.26.0)\n",
      "Requirement already satisfied: charset-normalizer~=2.0.0 in /opt/conda/lib/python3.8/site-packages (from requests->roboflow) (2.0.0)\n",
      "\u001b[33mWARNING: You are using pip version 21.2.4; however, version 23.2 is available.\n",
      "You should consider upgrading via the '/opt/conda/bin/python3 -m pip install --upgrade pip' command.\u001b[0m\n"
     ]
    },
    {
     "ename": "ImportError",
     "evalue": "libGL.so.1: cannot open shared object file: No such file or directory",
     "output_type": "error",
     "traceback": [
      "\u001b[0;31m---------------------------------------------------------------------------\u001b[0m",
      "\u001b[0;31mImportError\u001b[0m                               Traceback (most recent call last)",
      "\u001b[0;32m/tmp/ipykernel_396/93725594.py\u001b[0m in \u001b[0;36m<module>\u001b[0;34m\u001b[0m\n\u001b[1;32m      3\u001b[0m \u001b[0mget_ipython\u001b[0m\u001b[0;34m(\u001b[0m\u001b[0;34m)\u001b[0m\u001b[0;34m.\u001b[0m\u001b[0msystem\u001b[0m\u001b[0;34m(\u001b[0m\u001b[0;34m'pip install roboflow'\u001b[0m\u001b[0;34m)\u001b[0m\u001b[0;34m\u001b[0m\u001b[0;34m\u001b[0m\u001b[0m\n\u001b[1;32m      4\u001b[0m \u001b[0;34m\u001b[0m\u001b[0m\n\u001b[0;32m----> 5\u001b[0;31m \u001b[0;32mfrom\u001b[0m \u001b[0mroboflow\u001b[0m \u001b[0;32mimport\u001b[0m \u001b[0mRoboflow\u001b[0m\u001b[0;34m\u001b[0m\u001b[0;34m\u001b[0m\u001b[0m\n\u001b[0m\u001b[1;32m      6\u001b[0m \u001b[0mrf\u001b[0m \u001b[0;34m=\u001b[0m \u001b[0mRoboflow\u001b[0m\u001b[0;34m(\u001b[0m\u001b[0mapi_key\u001b[0m\u001b[0;34m=\u001b[0m\u001b[0;34m\"fT5oyESQpvY2ntrSyCCW\"\u001b[0m\u001b[0;34m)\u001b[0m\u001b[0;34m\u001b[0m\u001b[0;34m\u001b[0m\u001b[0m\n\u001b[1;32m      7\u001b[0m \u001b[0mproject\u001b[0m \u001b[0;34m=\u001b[0m \u001b[0mrf\u001b[0m\u001b[0;34m.\u001b[0m\u001b[0mworkspace\u001b[0m\u001b[0;34m(\u001b[0m\u001b[0;34m\"gdit\"\u001b[0m\u001b[0;34m)\u001b[0m\u001b[0;34m.\u001b[0m\u001b[0mproject\u001b[0m\u001b[0;34m(\u001b[0m\u001b[0;34m\"aerial-airport\"\u001b[0m\u001b[0;34m)\u001b[0m\u001b[0;34m\u001b[0m\u001b[0;34m\u001b[0m\u001b[0m\n",
      "\u001b[0;32m~/.local/lib/python3.8/site-packages/roboflow/__init__.py\u001b[0m in \u001b[0;36m<module>\u001b[0;34m\u001b[0m\n\u001b[1;32m      5\u001b[0m \u001b[0;34m\u001b[0m\u001b[0m\n\u001b[1;32m      6\u001b[0m \u001b[0;32mimport\u001b[0m \u001b[0mrequests\u001b[0m\u001b[0;34m\u001b[0m\u001b[0;34m\u001b[0m\u001b[0m\n\u001b[0;32m----> 7\u001b[0;31m \u001b[0;32mfrom\u001b[0m \u001b[0mroboflow\u001b[0m\u001b[0;34m.\u001b[0m\u001b[0mcore\u001b[0m\u001b[0;34m.\u001b[0m\u001b[0mworkspace\u001b[0m \u001b[0;32mimport\u001b[0m \u001b[0mWorkspace\u001b[0m\u001b[0;34m\u001b[0m\u001b[0;34m\u001b[0m\u001b[0m\n\u001b[0m\u001b[1;32m      8\u001b[0m \u001b[0;32mfrom\u001b[0m \u001b[0mroboflow\u001b[0m\u001b[0;34m.\u001b[0m\u001b[0mcore\u001b[0m\u001b[0;34m.\u001b[0m\u001b[0mproject\u001b[0m \u001b[0;32mimport\u001b[0m \u001b[0mProject\u001b[0m\u001b[0;34m\u001b[0m\u001b[0;34m\u001b[0m\u001b[0m\n\u001b[1;32m      9\u001b[0m \u001b[0;32mfrom\u001b[0m \u001b[0mroboflow\u001b[0m\u001b[0;34m.\u001b[0m\u001b[0mconfig\u001b[0m \u001b[0;32mimport\u001b[0m \u001b[0;34m*\u001b[0m\u001b[0;34m\u001b[0m\u001b[0;34m\u001b[0m\u001b[0m\n",
      "\u001b[0;32m~/.local/lib/python3.8/site-packages/roboflow/core/workspace.py\u001b[0m in \u001b[0;36m<module>\u001b[0;34m\u001b[0m\n\u001b[1;32m      1\u001b[0m \u001b[0;32mimport\u001b[0m \u001b[0mrequests\u001b[0m\u001b[0;34m\u001b[0m\u001b[0;34m\u001b[0m\u001b[0m\n\u001b[1;32m      2\u001b[0m \u001b[0;32mimport\u001b[0m \u001b[0mjson\u001b[0m\u001b[0;34m\u001b[0m\u001b[0;34m\u001b[0m\u001b[0m\n\u001b[0;32m----> 3\u001b[0;31m \u001b[0;32mfrom\u001b[0m \u001b[0mroboflow\u001b[0m\u001b[0;34m.\u001b[0m\u001b[0mcore\u001b[0m\u001b[0;34m.\u001b[0m\u001b[0mproject\u001b[0m \u001b[0;32mimport\u001b[0m \u001b[0mProject\u001b[0m\u001b[0;34m\u001b[0m\u001b[0;34m\u001b[0m\u001b[0m\n\u001b[0m\u001b[1;32m      4\u001b[0m \u001b[0;32mfrom\u001b[0m \u001b[0mroboflow\u001b[0m\u001b[0;34m.\u001b[0m\u001b[0mconfig\u001b[0m \u001b[0;32mimport\u001b[0m \u001b[0;34m*\u001b[0m\u001b[0;34m\u001b[0m\u001b[0;34m\u001b[0m\u001b[0m\n\u001b[1;32m      5\u001b[0m \u001b[0;32mimport\u001b[0m \u001b[0msys\u001b[0m\u001b[0;34m\u001b[0m\u001b[0;34m\u001b[0m\u001b[0m\n",
      "\u001b[0;32m~/.local/lib/python3.8/site-packages/roboflow/core/project.py\u001b[0m in \u001b[0;36m<module>\u001b[0;34m\u001b[0m\n\u001b[1;32m      6\u001b[0m \u001b[0;32mimport\u001b[0m \u001b[0mdatetime\u001b[0m\u001b[0;34m\u001b[0m\u001b[0;34m\u001b[0m\u001b[0m\n\u001b[1;32m      7\u001b[0m \u001b[0;32mimport\u001b[0m \u001b[0mwarnings\u001b[0m\u001b[0;34m\u001b[0m\u001b[0;34m\u001b[0m\u001b[0m\n\u001b[0;32m----> 8\u001b[0;31m \u001b[0;32mimport\u001b[0m \u001b[0mcv2\u001b[0m\u001b[0;34m\u001b[0m\u001b[0;34m\u001b[0m\u001b[0m\n\u001b[0m\u001b[1;32m      9\u001b[0m \u001b[0;32mimport\u001b[0m \u001b[0mrequests\u001b[0m\u001b[0;34m\u001b[0m\u001b[0;34m\u001b[0m\u001b[0m\n\u001b[1;32m     10\u001b[0m \u001b[0;32mfrom\u001b[0m \u001b[0mPIL\u001b[0m \u001b[0;32mimport\u001b[0m \u001b[0mImage\u001b[0m\u001b[0;34m\u001b[0m\u001b[0;34m\u001b[0m\u001b[0m\n",
      "\u001b[0;32m~/.local/lib/python3.8/site-packages/cv2/__init__.py\u001b[0m in \u001b[0;36m<module>\u001b[0;34m\u001b[0m\n\u001b[1;32m    179\u001b[0m \u001b[0;34m\u001b[0m\u001b[0m\n\u001b[1;32m    180\u001b[0m \u001b[0;34m\u001b[0m\u001b[0m\n\u001b[0;32m--> 181\u001b[0;31m \u001b[0mbootstrap\u001b[0m\u001b[0;34m(\u001b[0m\u001b[0;34m)\u001b[0m\u001b[0;34m\u001b[0m\u001b[0;34m\u001b[0m\u001b[0m\n\u001b[0m",
      "\u001b[0;32m~/.local/lib/python3.8/site-packages/cv2/__init__.py\u001b[0m in \u001b[0;36mbootstrap\u001b[0;34m()\u001b[0m\n\u001b[1;32m    151\u001b[0m     \u001b[0mpy_module\u001b[0m \u001b[0;34m=\u001b[0m \u001b[0msys\u001b[0m\u001b[0;34m.\u001b[0m\u001b[0mmodules\u001b[0m\u001b[0;34m.\u001b[0m\u001b[0mpop\u001b[0m\u001b[0;34m(\u001b[0m\u001b[0;34m\"cv2\"\u001b[0m\u001b[0;34m)\u001b[0m\u001b[0;34m\u001b[0m\u001b[0;34m\u001b[0m\u001b[0m\n\u001b[1;32m    152\u001b[0m \u001b[0;34m\u001b[0m\u001b[0m\n\u001b[0;32m--> 153\u001b[0;31m     \u001b[0mnative_module\u001b[0m \u001b[0;34m=\u001b[0m \u001b[0mimportlib\u001b[0m\u001b[0;34m.\u001b[0m\u001b[0mimport_module\u001b[0m\u001b[0;34m(\u001b[0m\u001b[0;34m\"cv2\"\u001b[0m\u001b[0;34m)\u001b[0m\u001b[0;34m\u001b[0m\u001b[0;34m\u001b[0m\u001b[0m\n\u001b[0m\u001b[1;32m    154\u001b[0m \u001b[0;34m\u001b[0m\u001b[0m\n\u001b[1;32m    155\u001b[0m     \u001b[0msys\u001b[0m\u001b[0;34m.\u001b[0m\u001b[0mmodules\u001b[0m\u001b[0;34m[\u001b[0m\u001b[0;34m\"cv2\"\u001b[0m\u001b[0;34m]\u001b[0m \u001b[0;34m=\u001b[0m \u001b[0mpy_module\u001b[0m\u001b[0;34m\u001b[0m\u001b[0;34m\u001b[0m\u001b[0m\n",
      "\u001b[0;32m/opt/conda/lib/python3.8/importlib/__init__.py\u001b[0m in \u001b[0;36mimport_module\u001b[0;34m(name, package)\u001b[0m\n\u001b[1;32m    125\u001b[0m                 \u001b[0;32mbreak\u001b[0m\u001b[0;34m\u001b[0m\u001b[0;34m\u001b[0m\u001b[0m\n\u001b[1;32m    126\u001b[0m             \u001b[0mlevel\u001b[0m \u001b[0;34m+=\u001b[0m \u001b[0;36m1\u001b[0m\u001b[0;34m\u001b[0m\u001b[0;34m\u001b[0m\u001b[0m\n\u001b[0;32m--> 127\u001b[0;31m     \u001b[0;32mreturn\u001b[0m \u001b[0m_bootstrap\u001b[0m\u001b[0;34m.\u001b[0m\u001b[0m_gcd_import\u001b[0m\u001b[0;34m(\u001b[0m\u001b[0mname\u001b[0m\u001b[0;34m[\u001b[0m\u001b[0mlevel\u001b[0m\u001b[0;34m:\u001b[0m\u001b[0;34m]\u001b[0m\u001b[0;34m,\u001b[0m \u001b[0mpackage\u001b[0m\u001b[0;34m,\u001b[0m \u001b[0mlevel\u001b[0m\u001b[0;34m)\u001b[0m\u001b[0;34m\u001b[0m\u001b[0;34m\u001b[0m\u001b[0m\n\u001b[0m\u001b[1;32m    128\u001b[0m \u001b[0;34m\u001b[0m\u001b[0m\n\u001b[1;32m    129\u001b[0m \u001b[0;34m\u001b[0m\u001b[0m\n",
      "\u001b[0;31mImportError\u001b[0m: libGL.so.1: cannot open shared object file: No such file or directory"
     ]
    }
   ],
   "source": [
    "%cd /content/datasets/\n",
    "\n",
    "!pip install roboflow\n",
    "\n",
    "from roboflow import Roboflow\n",
    "rf = Roboflow(api_key=\"fT5oyESQpvY2ntrSyCCW\")\n",
    "project = rf.workspace(\"gdit\").project(\"aerial-airport\")\n",
    "dataset = project.version(1).download(\"yolov5-obb\")"
   ]
  },
  {
   "cell_type": "markdown",
   "metadata": {
    "id": "cZJDvs5Bd59B"
   },
   "source": [
    "## Rename dataset name to roboflow\n",
    "\n",
    "After running the `!pip install` package, our python.train will expect the dataset name to be `roboflow` (with or without changing the code path below). Make sure to change your cloned dataset folder name to `roboflow` before running the cell below. \n",
    "\n",
    "In other words, make sure your dataset structure is:\n",
    "\n",
    "```\n",
    "parent\n",
    "├── yolov5\n",
    "└── datasets\n",
    "    └── roboflow\n",
    "        ├── test\n",
    "        ├── train\n",
    "        └── valid\n",
    "            ├── images\n",
    "                 |────1.jpg\n",
    "                 |────...\n",
    "                 └────10000.jpg\n",
    "            ├── labelTxt\n",
    "                 |────1.txt\n",
    "                 |────...\n",
    "                 └────10000.txt\n",
    "        └────README.roboflow.txt\n",
    "        └────data.yaml\n",
    "```"
   ]
  },
  {
   "cell_type": "code",
   "execution_count": null,
   "metadata": {
    "colab": {
     "base_uri": "https://localhost:8080/"
    },
    "id": "EyQ-eqwe9Vaw",
    "outputId": "80069ce4-26a5-4d73-8ad4-c4ff80adaa98"
   },
   "outputs": [],
   "source": [
    "# Download trained weights\n",
    "# %cd /content/yolov7_obb_expm/\n",
    "%cd /content/YOLOv7_obb_KFIOU/\n",
    "!wget https://github.com/WongKinYiu/yolov7/releases/download/v0.1/yolov7.pt"
   ]
  },
  {
   "cell_type": "markdown",
   "metadata": {
    "id": "XZd6BBwHOCME"
   },
   "source": [
    "Before training the model, always rename the dataset to \"roboflow\", and point its address to:\n",
    "\n",
    "```\n",
    "/content/datasets/roboflow/data.yaml\n",
    "```\n",
    "\n"
   ]
  },
  {
   "cell_type": "code",
   "execution_count": null,
   "metadata": {
    "colab": {
     "base_uri": "https://localhost:8080/"
    },
    "id": "uz2QPN9D2OqM",
    "outputId": "8a7d9a9e-9ca7-446f-860a-987f36b44ec0"
   },
   "outputs": [],
   "source": [
    "# os.rename\n",
    "import os  \n",
    "%cd /content/datasets/\n",
    "os.rename(\"/content/datasets/Aerial-Airport-1\", \"/content/datasets/roboflow\")"
   ]
  },
  {
   "cell_type": "code",
   "execution_count": 11,
   "metadata": {
    "colab": {
     "base_uri": "https://localhost:8080/"
    },
    "id": "jXOF90MZeC11",
    "outputId": "4734f9e0-adb0-4821-edbc-3eabaeb21dbc"
   },
   "outputs": [
    {
     "name": "stdout",
     "output_type": "stream",
     "text": [
      "/home/u7701783/yolov7-obb\n",
      "Traceback (most recent call last):\n",
      "  File \"train.py\", line 42, in <module>\n",
      "    import val  # for end-of-epoch mAP. all the modules below are imported later to let the rboxs.utils import the \"angular definition\" off-model argument\n",
      "  File \"/home/u7701783/yolov7-obb/val.py\", line 20, in <module>\n",
      "    from utils.rboxs_utils import poly2hbb, rbox2poly\n",
      "  File \"/home/u7701783/yolov7-obb/utils/rboxs_utils.py\", line 6, in <module>\n",
      "    import cv2\n",
      "  File \"/home/u7701783/.local/lib/python3.8/site-packages/cv2/__init__.py\", line 181, in <module>\n",
      "    bootstrap()\n",
      "  File \"/home/u7701783/.local/lib/python3.8/site-packages/cv2/__init__.py\", line 153, in bootstrap\n",
      "    native_module = importlib.import_module(\"cv2\")\n",
      "  File \"/opt/conda/lib/python3.8/importlib/__init__.py\", line 127, in import_module\n",
      "    return _bootstrap._gcd_import(name[level:], package, level)\n",
      "ImportError: libGL.so.1: cannot open shared object file: No such file or directory\n"
     ]
    }
   ],
   "source": [
    "# Commence Training the Model\n",
    "# %cd /content/yolov7_obb_expm/\n",
    "%cd ~/yolov7-obb/\n",
    "!python train.py --data ~/dataset/roboflow/data.yaml --weights yolov7.pt --epochs 10 --batch-size 5 --img 1024 --device 0 --exist-ok"
   ]
  },
  {
   "cell_type": "code",
   "execution_count": null,
   "metadata": {
    "id": "8yBGxIBJbL1W"
   },
   "outputs": [],
   "source": [
    "!python detect.py --weights 'runs/train/exp/weights/best.pt' --source '../datasets/roboflow/valid/images' --conf-thres 0.01 --img 416 --device 0 --agnostic"
   ]
  },
  {
   "cell_type": "code",
   "execution_count": null,
   "metadata": {
    "id": "D782nBcaL5er"
   },
   "outputs": [],
   "source": [
    "%cd /content/yolov5_obb/runs/detect/exp/"
   ]
  },
  {
   "cell_type": "code",
   "execution_count": null,
   "metadata": {
    "id": "K6RlZpzxb_kE"
   },
   "outputs": [],
   "source": [
    "import os, random\n",
    "random_file = random.choice(os.listdir(\"/content/yolov5_obb/runs/detect/exp\"))\n",
    "\n",
    "from IPython.display import Image\n",
    "Image(random_file)"
   ]
  }
 ],
 "metadata": {
  "accelerator": "GPU",
  "colab": {
   "provenance": []
  },
  "gpuClass": "standard",
  "kernelspec": {
   "display_name": "Python 3 (ipykernel)",
   "language": "python",
   "name": "python3"
  },
  "language_info": {
   "codemirror_mode": {
    "name": "ipython",
    "version": 3
   },
   "file_extension": ".py",
   "mimetype": "text/x-python",
   "name": "python",
   "nbconvert_exporter": "python",
   "pygments_lexer": "ipython3",
   "version": "3.8.10"
  }
 },
 "nbformat": 4,
 "nbformat_minor": 1
}
